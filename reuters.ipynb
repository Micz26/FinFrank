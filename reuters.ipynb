{
 "cells": [
  {
   "cell_type": "code",
   "execution_count": 78,
   "metadata": {},
   "outputs": [],
   "source": [
    "from bs4 import BeautifulSoup\n",
    "import requests\n",
    "import regex as re\n",
    "import pandas as pd\n",
    "import os\n",
    "import json\n",
    "import random\n",
    "import yfinance as yf"
   ]
  },
  {
   "cell_type": "code",
   "execution_count": 110,
   "metadata": {},
   "outputs": [],
   "source": [
    "class Yahoo:\n",
    "    def __init__(self, url : str = ''):\n",
    "        self.url = url\n",
    "        self.headers_list = [\n",
    "                        'Mozilla/5.0 (Windows NT 6.3; WOW64) AppleWebKit/537.36 (KHTML, like Gecko) Chrome/59.0.3071.115 Safari/537.36',\n",
    "                        'Mozilla/5.0 (Windows NT 10.0; Win64; x64) AppleWebKit/537.36 (KHTML, like Gecko) Chrome/102.0.0.0 Safari/537.36'\n",
    "                        \"Mozilla/5.0 (Windows NT 10.0; rv:91.0) Gecko/20100101 Firefox/91.0\",\n",
    "                        \"Mozilla/5.0 (Windows NT 10.0; rv:78.0) Gecko/20100101 Firefox/78.0\",\n",
    "                        \"Mozilla/5.0 (X11; Linux x86_64; rv:95.0) Gecko/20100101 Firefox/95.0\",\n",
    "                        'Mozilla/5.0 (Macintosh; Intel Mac OS X 10_15_5) AppleWebKit/605.1.15 (KHTML, like Gecko) Version/13.1.1 Safari/605.1.15',\n",
    "                        'Mozilla/5.0 (Windows NT 10.0; Win64; x64; rv:77.0) Gecko/20100101 Firefox/77.0',\n",
    "                        'Mozilla/5.0 (Macintosh; Intel Mac OS X 10_15_5) AppleWebKit/537.36 (KHTML, like Gecko) Chrome/83.0.4103.97 Safari/537.36',\n",
    "                        'Mozilla/5.0 (Macintosh; Intel Mac OS X 10.15; rv:77.0) Gecko/20100101 Firefox/77.0',\n",
    "                        'Mozilla/5.0 (Windows NT 10.0; Win64; x64) AppleWebKit/537.36 (KHTML, like Gecko) Chrome/83.0.4103.97 Safari/537.36'\n",
    "                        ] \n",
    "        self.soup = \"\"\n",
    "        self.headers = {'User-Agent' : random.choice(self.headers_list) }\n",
    "\n",
    "    def get_soup(self):\n",
    "        r = requests.get(self.url, headers = self.headers, timeout=1000)\n",
    "        self.soup = BeautifulSoup(r.content, \"lxml\")\n",
    "        \n",
    "        return self.soup\n",
    "    \n",
    "    def get_soupTextYahoo(self):\n",
    "        if not self.soup:\n",
    "            soup = self.get_soup()\n",
    "        \n",
    "        soupText = soup.find_all(\"div\", {\"class\":\"caas-body\"})[0]\n",
    "        \n",
    "        return str(soupText.text)\n",
    "\n",
    "class NBP(Yahoo):\n",
    "    def __init__(self, url : str = ''):\n",
    "        super().__init__(url) \n",
    "        self.soup = \"\"\n",
    "        self.offertListLinks = []\n",
    "        \n",
    "    def make_offertListLinks(self):\n",
    "        if not self.soup:\n",
    "            soup = self.get_soup()\n",
    "        \n",
    "        classSoup = soup.find_all(\"div\", {\"class\":\"product-card\"})\n",
    "        \n",
    "        hrefs = []\n",
    "        for item in classSoup[:-1]:\n",
    "            revenue_symbol = re.compile('(?<=href=\")(.*?)(?=\">)')\n",
    "            link = re.findall(revenue_symbol, str(item))[0]\n",
    "            link = f\"https://www.obligacjeskarbowe.pl/{link}\"\n",
    "            self.offertListLinks.append(link)\n",
    "        \n",
    "        return self.offertListLinks\n",
    "    \n"
   ]
  },
  {
   "cell_type": "code",
   "execution_count": 111,
   "metadata": {},
   "outputs": [],
   "source": [
    "def show_news(stock_name= \"MCD\", time=None):\n",
    "    news_data = yf.Ticker(stock_name).news\n",
    "    filtered_news = [article for article in news_data if stock_name in article['relatedTickers']]\n",
    "\n",
    "\n",
    "    news_info = []\n",
    "    for news in filtered_news[-3:]:\n",
    "        title = news['title']\n",
    "        link = news['link']\n",
    "        scrap = Yahoo(link)\n",
    "        article = scrap.get_soupTextYahoo()\n",
    "        news_info.append((title, link, article))\n",
    "\n",
    "    return json.dumps(news_info), None\n",
    "\n"
   ]
  },
  {
   "cell_type": "code",
   "execution_count": 112,
   "metadata": {},
   "outputs": [],
   "source": [
    "scrap = Yahoo(\"https://finance.yahoo.com/news/yum-brands-yum-report-q3-155700403.html\")\n",
    "\n",
    "nbp = NBP(\"https://www.obligacjeskarbowe.pl/\")\n",
    "test = nbp.make_offertListLinks()"
   ]
  },
  {
   "cell_type": "code",
   "execution_count": 113,
   "metadata": {},
   "outputs": [
    {
     "data": {
      "text/plain": [
       "['https://www.obligacjeskarbowe.pl//oferta-obligacji/obligacje-3-miesieczne-ots/ots0124/',\n",
       " 'https://www.obligacjeskarbowe.pl//oferta-obligacji/obligacje-roczne-ror/ror1024/',\n",
       " 'https://www.obligacjeskarbowe.pl//oferta-obligacji/obligacje-2-letnie-dor/dor1025/',\n",
       " 'https://www.obligacjeskarbowe.pl//oferta-obligacji/obligacje-3-letnie-tos/tos1026/',\n",
       " 'https://www.obligacjeskarbowe.pl//oferta-obligacji/obligacje-4-letnie-coi/coi1027/',\n",
       " 'https://www.obligacjeskarbowe.pl//oferta-obligacji/obligacje-10-letnie-edo/edo1033/',\n",
       " 'https://www.obligacjeskarbowe.pl//oferta-obligacji/obligacje-6-letnie-ros/ros1029/',\n",
       " 'https://www.obligacjeskarbowe.pl//oferta-obligacji/obligacje-12-letnie-rod/rod1035/']"
      ]
     },
     "execution_count": 113,
     "metadata": {},
     "output_type": "execute_result"
    }
   ],
   "source": [
    "test"
   ]
  }
 ],
 "metadata": {
  "kernelspec": {
   "display_name": "Python 3",
   "language": "python",
   "name": "python3"
  },
  "language_info": {
   "codemirror_mode": {
    "name": "ipython",
    "version": 3
   },
   "file_extension": ".py",
   "mimetype": "text/x-python",
   "name": "python",
   "nbconvert_exporter": "python",
   "pygments_lexer": "ipython3",
   "version": "3.10.7"
  }
 },
 "nbformat": 4,
 "nbformat_minor": 2
}
